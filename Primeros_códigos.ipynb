{
  "nbformat": 4,
  "nbformat_minor": 0,
  "metadata": {
    "colab": {
      "provenance": [],
      "authorship_tag": "ABX9TyOSV8fNRiuvrsKDcwBHDy/m",
      "include_colab_link": true
    },
    "kernelspec": {
      "name": "python3",
      "display_name": "Python 3"
    },
    "language_info": {
      "name": "python"
    }
  },
  "cells": [
    {
      "cell_type": "markdown",
      "metadata": {
        "id": "view-in-github",
        "colab_type": "text"
      },
      "source": [
        "<a href=\"https://colab.research.google.com/github/SamSchloss/Inicio/blob/main/Primeros_c%C3%B3digos.ipynb\" target=\"_parent\"><img src=\"https://colab.research.google.com/assets/colab-badge.svg\" alt=\"Open In Colab\"/></a>"
      ]
    },
    {
      "cell_type": "markdown",
      "source": [
        "Primeros códigos (pasos primitivos)"
      ],
      "metadata": {
        "id": "tkCCuDJD3jOe"
      }
    },
    {
      "cell_type": "markdown",
      "source": [
        "Multiplicación"
      ],
      "metadata": {
        "id": "b9CBkGku3ryD"
      }
    },
    {
      "cell_type": "code",
      "source": [
        "##### Entradas #####\n",
        "factor_1 = float(input(\"ingresa el primer factor: \"))\n",
        "factor_2 = float(input(\"ingresa el segundo factor: \"))\n",
        "\n",
        "##### Proceso #####\n",
        "producto = factor_1 * factor_2\n",
        "\n",
        "##### salidas #####\n",
        "print(\"el resultado de la multiplicación es: \")\n",
        "print(producto )"
      ],
      "metadata": {
        "colab": {
          "base_uri": "https://localhost:8080/"
        },
        "id": "CokrO0yH3p5h",
        "outputId": "4a992408-544f-49f5-c7c4-6f4bae25049d"
      },
      "execution_count": 8,
      "outputs": [
        {
          "output_type": "stream",
          "name": "stdout",
          "text": [
            "ingresa el primer factor: 32.6\n",
            "ingresa el segundo factor: 32.778\n",
            "el resultado de la multiplicación es: \n",
            "1068.5628\n"
          ]
        }
      ]
    },
    {
      "cell_type": "markdown",
      "source": [
        "Área y perímetro de un círculo"
      ],
      "metadata": {
        "id": "8VP7rzoO6WxE"
      }
    },
    {
      "cell_type": "code",
      "source": [
        "##### Entradas #####\n",
        "radio = float(input(\"radio del círculo: \"))\n",
        "\n",
        "##### Proceso #####\n",
        "perímetro = 3.141592 * radio * 2\n",
        "área = 3.141592 * radio ** 2\n",
        "\n",
        "##### Salidas #####\n",
        "print(\"el perímetro del círculo es: \" , perímetro)\n",
        "print(\"el área del círculo es: \" , área)"
      ],
      "metadata": {
        "colab": {
          "base_uri": "https://localhost:8080/"
        },
        "id": "D2yCSwem6ad_",
        "outputId": "1b43ac14-f52a-4a04-8322-860d565a0eca"
      },
      "execution_count": 11,
      "outputs": [
        {
          "output_type": "stream",
          "name": "stdout",
          "text": [
            "radio del círculo: 3\n",
            "el perímetro del círculo es:  18.849552000000003\n",
            "el área del círculo es:  28.274328\n"
          ]
        }
      ]
    },
    {
      "cell_type": "markdown",
      "source": [
        "Número de hidrógenos en una cadena orgánica"
      ],
      "metadata": {
        "id": "AshzVhjH9U6j"
      }
    },
    {
      "cell_type": "markdown",
      "source": [
        "Suponiendo que la fórmula química se compone de CHONF"
      ],
      "metadata": {
        "id": "IsngMLolDG9x"
      }
    },
    {
      "cell_type": "code",
      "source": [
        "##### Entradas #####\n",
        "Número_de_átomos_del_grupo_IVA = c = int(input(\"¿cuántos átomos del grupo IVA tiene la cadena?: \"))\n",
        "Número_de_átomos_del_grupo_VA = n = int(input(\"¿cuántos átomos del grupo VA tiene la cadena?: \"))\n",
        "Número_de_átomos_del_grupo_VIA = o = int(input(\"¿cuántos átomos del grupo VIA tiene la cadena?: \"))\n",
        "Número_de_átomos_del_grupo_VIIA = f = int(input(\"¿cuántos átomos del grupo VIIA tiene la cadena?: \"))\n",
        "Número_de_enlaces_dobles = d = int(input(\"¿cuántos enlaces dobles tiene la cadena?: \"))\n",
        "Número_de_enlaces_triples = t = int(input(\"¿cuántos enlaces triples tiene la cadena?: \"))\n",
        "Número_de_ciclos = k = int(input(\"¿cuántos ciclos tiene la cadena?: \"))\n",
        "\n",
        "##### Proceso #####\n",
        "Número_de_hidrógenos_de_la_cadena_orgánica = 2 * (c + 1 - d - 2 * t - k) + n - f\n",
        "\n",
        "##### Salidas #####\n",
        "print(\"El número de hidrógenos presentes en la cadena orgánica es: \" , Número_de_hidrógenos_de_la_cadena_orgánica)\n",
        "print(\"La fórmula química de la molécula es: \" , \"C\" , c , \"H\" , Número_de_hidrógenos_de_la_cadena_orgánica , \"O\" , o , \"N\" , n , \"F\" , f)"
      ],
      "metadata": {
        "colab": {
          "base_uri": "https://localhost:8080/"
        },
        "id": "x9xbUMTX9UBs",
        "outputId": "7c7b3af6-f4e4-4794-d168-e4618b286c30"
      },
      "execution_count": 15,
      "outputs": [
        {
          "output_type": "stream",
          "name": "stdout",
          "text": [
            "¿cuántos átomos del grupo IVA tiene la cadena?: 10\n",
            "¿cuántos átomos del grupo VA tiene la cadena?: 1\n",
            "¿cuántos átomos del grupo VIA tiene la cadena?: 1\n",
            "¿cuántos átomos del grupo VIIA tiene la cadena?: 0\n",
            "¿cuántos enlaces dobles tiene la cadena?: 2\n",
            "¿cuántos enlaces triples tiene la cadena?: 2\n",
            "¿cuántos ciclos tiene la cadena?: 2\n",
            "El número de hidrógenos presentes en la cadena orgánica es:  7\n",
            "La fórmula química de la molécula es:  C 10 H 7 O 1 N 1 F 0\n"
          ]
        }
      ]
    }
  ]
}