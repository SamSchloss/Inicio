{
  "nbformat": 4,
  "nbformat_minor": 0,
  "metadata": {
    "colab": {
      "provenance": [],
      "include_colab_link": true
    },
    "kernelspec": {
      "name": "python3",
      "display_name": "Python 3"
    },
    "language_info": {
      "name": "python"
    }
  },
  "cells": [
    {
      "cell_type": "markdown",
      "metadata": {
        "id": "view-in-github",
        "colab_type": "text"
      },
      "source": [
        "<a href=\"https://colab.research.google.com/github/SamSchloss/Inicio/blob/main/Samuel_Castillo_Gaviria_2023_02_Taller_0_Fundamentos_de_Programacion.ipynb\" target=\"_parent\"><img src=\"https://colab.research.google.com/assets/colab-badge.svg\" alt=\"Open In Colab\"/></a>"
      ]
    },
    {
      "cell_type": "markdown",
      "source": [
        "### **Taller 0 - Fundamentos de programación**\n",
        "**Problema 1: Implemente un algoritmo para convertir pulgadas a centímetros.**"
      ],
      "metadata": {
        "id": "sg2UWlJ638nS"
      }
    },
    {
      "cell_type": "code",
      "execution_count": null,
      "metadata": {
        "id": "RAfo6A092uxN",
        "colab": {
          "base_uri": "https://localhost:8080/"
        },
        "outputId": "0cad0b55-08cf-4deb-a106-49159e2fcbf2"
      },
      "outputs": [
        {
          "output_type": "stream",
          "name": "stdout",
          "text": [
            "Ingresa las pulgadas para transformar: 2\n",
            "La respuesta es:  5.08\n"
          ]
        }
      ],
      "source": [
        "###### Entradas #####\n",
        "pulgadas = float(input(\"Ingresa las pulgadas para transformar: \"))\n",
        "\n",
        "##### procesamiento #####\n",
        "centimetros = pulgadas * 2.54\n",
        "\n",
        "##### Salidas #####\n",
        "print(\"La respuesta es: \" , centimetros)"
      ]
    },
    {
      "cell_type": "markdown",
      "source": [
        "**Problema 2: Implemente un algoritmo para multiplicar dos factores y obtener el producto.**"
      ],
      "metadata": {
        "id": "e3Q8qJJj660K"
      }
    },
    {
      "cell_type": "code",
      "source": [
        "###### Entradas #####\n",
        "factor_1 = float(input(\"ingresar factor 1: \"))\n",
        "Factor_2 = float(input(\"ingresar factor 2 : \"))\n",
        "\n",
        "##### procesamiento #####\n",
        "producto = factor_1 * Factor_2\n",
        "\n",
        "##### Salidas #####\n",
        "print(\"el producto es: \" , producto)"
      ],
      "metadata": {
        "id": "Q_U6Na3o7aco",
        "colab": {
          "base_uri": "https://localhost:8080/"
        },
        "outputId": "0a4625bd-4be7-4ab4-afc6-361169bcffb4"
      },
      "execution_count": null,
      "outputs": [
        {
          "output_type": "stream",
          "name": "stdout",
          "text": [
            "ingresar factor 1: 5\n",
            "ingresar factor 2 : 3\n",
            "el producto es:  15.0\n"
          ]
        }
      ]
    },
    {
      "cell_type": "markdown",
      "source": [
        "**Problema 3: Implemente un algoritmo que solicite al usuario su primer nombre, segundo nombre, primer apellido y segundo apellido; y finalmente imprima todo junto.**"
      ],
      "metadata": {
        "id": "j1p69EB07dYx"
      }
    },
    {
      "cell_type": "code",
      "source": [
        "###### Entradas #####\n",
        "nombre_1 = n1 = str(input(\"ingrese su primer nombre: \"))\n",
        "nombre_2 = n2 = str(input(\"ingrese su segundo nombre: \"))\n",
        "apellido_1 = a1 = str(input(\"ingrese su primer apellido: \"))\n",
        "apellido_2 = a2 = str(input(\"ingrese su segundo apellido: \"))\n",
        "\n",
        "##### slaidas #####\n",
        "print(\"su nombre completo es: \" , n1 , n2 , a1 , a2)"
      ],
      "metadata": {
        "id": "lX_8es4W7zl6",
        "colab": {
          "base_uri": "https://localhost:8080/"
        },
        "outputId": "4c7350ad-cafc-4010-cf92-8bdce74add9b"
      },
      "execution_count": null,
      "outputs": [
        {
          "output_type": "stream",
          "name": "stdout",
          "text": [
            "ingrese su primer nombre: Samuel\n",
            "ingrese su segundo nombre: \n",
            "ingrese su primer apellido: Castillo\n",
            "ingrese su segundo apellido: Gaviria\n",
            "su nombre completo es:  Samuel  Castillo Gaviria\n"
          ]
        }
      ]
    },
    {
      "cell_type": "markdown",
      "source": [
        "**Problema 4: Implemente un algoritmo que solicite datos de entrada al usuario y con ellos calcule el área de un triángulo. Recuerde usar el Formatted Print.**\n",
        "\n"
      ],
      "metadata": {
        "id": "dZhLfSj771OV"
      }
    },
    {
      "cell_type": "code",
      "source": [
        "###### Entradas #####\n",
        "base = float(input(\"ingrese la base del triàngulo: \"))\n",
        "altura = float(input(\"ingrese la altura del triàngulo: \"))\n",
        "\n",
        "###### Procesamiento #####\n",
        "area = (base * altura) / 2\n",
        "area_r = round(area , 4)\n",
        "\n",
        "##### slaidas #####\n",
        "print(\"el àrea del rectàngulo es: \" , area_r)"
      ],
      "metadata": {
        "id": "a4d3MXND8ShY",
        "colab": {
          "base_uri": "https://localhost:8080/"
        },
        "outputId": "120253cc-95f9-4da9-a407-24448454df13"
      },
      "execution_count": null,
      "outputs": [
        {
          "output_type": "stream",
          "name": "stdout",
          "text": [
            "ingrese la base del triàngulo: 3\n",
            "ingrese la altura del triàngulo: 13\n",
            "el àrea del rectàngulo es:  19.5\n"
          ]
        }
      ]
    },
    {
      "cell_type": "markdown",
      "source": [
        "**Problema 5: Implemente un algoritmo que solicite datos de entrada al usuario y con ellos calcule el índice de masa corporal al usuario. Recuerde usar el Formatted Print.**"
      ],
      "metadata": {
        "id": "Pi0S33tT8T9p"
      }
    },
    {
      "cell_type": "code",
      "source": [
        "###### Entradas #####\n",
        "peso = w = float(input(\"ingrese su peso en kg: \"))\n",
        "altura = h = float(input(\"ingrese su altura en m: \"))\n",
        "\n",
        "###### Procesamiento #####\n",
        "imc = w / ( h ** 2)\n",
        "imc_redondeado = round(imc , 2)\n",
        "\n",
        "##### slaidas #####\n",
        "print(\"su IMC es: \" , imc_redondeado)"
      ],
      "metadata": {
        "id": "7iQTdUMK8j_3",
        "colab": {
          "base_uri": "https://localhost:8080/"
        },
        "outputId": "218434f4-ac72-493c-9c22-54ae1799eb78"
      },
      "execution_count": null,
      "outputs": [
        {
          "output_type": "stream",
          "name": "stdout",
          "text": [
            "ingrese su peso en kg: 78\n",
            "ingrese su altura en m: 1.76\n",
            "su IMC es:  25.18\n"
          ]
        }
      ]
    },
    {
      "cell_type": "markdown",
      "source": [
        "**Problema 6: Implemente un algoritmo que solicite datos de entrada al usuario y con ellos calcule la hipotenusa de un triángulo rectángulo. Recuerde usar la librería Math.**"
      ],
      "metadata": {
        "id": "2Qh3jRkH8md4"
      }
    },
    {
      "cell_type": "code",
      "source": [
        "import math\n",
        "###### Entradas #####\n",
        "cateto_1 = float(input(\"ingrese la longitud del primer cateto: \"))\n",
        "cateto_2 = float(input(\"ingrese la longitud del segundo cateto: \"))\n",
        "\n",
        "###### Procesamiento #####\n",
        "hipotenisa = h = math.sqrt(cateto_1 ** 2 + cateto_2 ** 2)\n",
        "hipotenusa_r = hr = round(h , 4)\n",
        "\n",
        "##### slaidas #####\n",
        "print(\"la hipotenusa del rectàngulo es: \" , hr)"
      ],
      "metadata": {
        "id": "BJEisjEZ8_NV",
        "colab": {
          "base_uri": "https://localhost:8080/"
        },
        "outputId": "9f117424-4746-428e-a6d9-ca53e67d3966"
      },
      "execution_count": null,
      "outputs": [
        {
          "output_type": "stream",
          "name": "stdout",
          "text": [
            "ingrese la longitud del primer cateto: 3\n",
            "ingrese la longitud del segundo cateto: 13\n",
            "la hipotenusa del rectàngulo es:  13.3417\n"
          ]
        }
      ]
    },
    {
      "cell_type": "markdown",
      "source": [
        "**Problema 7: Implemente un algoritmo que solicite datos de entrada al usuario y con ellos calcule el área de una circunferencia. Recuerde usar la librería Math.**\n"
      ],
      "metadata": {
        "id": "SF10ta8I9AaI"
      }
    },
    {
      "cell_type": "code",
      "source": [
        "import math\n",
        "###### Entradas #####\n",
        "radio = float(input(\"ingrese el radio del cìrculo\"))\n",
        "\n",
        "###### Procesamiento #####\n",
        "area = math.pi * (radio ** 2)\n",
        "area_red = round(area , 2)\n",
        "\n",
        "##### slaidas #####\n",
        "print(\"el àrea del cìrculo es: \" , area_red)"
      ],
      "metadata": {
        "id": "I_q875q69PEc",
        "colab": {
          "base_uri": "https://localhost:8080/"
        },
        "outputId": "9a1d93df-9be5-4f59-9825-6641b35cfd2a"
      },
      "execution_count": null,
      "outputs": [
        {
          "output_type": "stream",
          "name": "stdout",
          "text": [
            "ingrese el radio del cìrculo2\n",
            "el àrea del cìrculo es:  12.57\n"
          ]
        }
      ]
    },
    {
      "cell_type": "markdown",
      "source": [
        "**Chao**"
      ],
      "metadata": {
        "id": "KDejkCsx9aQ1"
      }
    }
  ]
}